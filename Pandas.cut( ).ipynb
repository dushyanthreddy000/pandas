{
 "cells": [
  {
   "cell_type": "markdown",
   "id": "3efbfcc6",
   "metadata": {},
   "source": [
    "### Pandas.cut( )"
   ]
  },
  {
   "cell_type": "code",
   "execution_count": 1,
   "id": "11687c71",
   "metadata": {},
   "outputs": [],
   "source": [
    "import pandas as pd\n",
    "import numpy as np"
   ]
  },
  {
   "cell_type": "code",
   "execution_count": 2,
   "id": "f7a8bbb3",
   "metadata": {},
   "outputs": [
    {
     "data": {
      "text/plain": [
       "[(0.994, 3.0], (5.0, 7.0], (3.0, 5.0], (3.0, 5.0], (5.0, 7.0], (0.994, 3.0]]\n",
       "Categories (3, interval[float64]): [(0.994, 3.0] < (3.0, 5.0] < (5.0, 7.0]]"
      ]
     },
     "execution_count": 2,
     "metadata": {},
     "output_type": "execute_result"
    }
   ],
   "source": [
    "pd.cut(np.array([1, 7, 5, 4, 6, 3]), 3)"
   ]
  },
  {
   "cell_type": "code",
   "execution_count": 3,
   "id": "b3a2e003",
   "metadata": {},
   "outputs": [
    {
     "data": {
      "text/plain": [
       "([(0.994, 3.0], (5.0, 7.0], (3.0, 5.0], (3.0, 5.0], (5.0, 7.0], (0.994, 3.0]]\n",
       " Categories (3, interval[float64]): [(0.994, 3.0] < (3.0, 5.0] < (5.0, 7.0]],\n",
       " array([0.994, 3.   , 5.   , 7.   ]))"
      ]
     },
     "execution_count": 3,
     "metadata": {},
     "output_type": "execute_result"
    }
   ],
   "source": [
    "pd.cut(np.array([1, 7, 5, 4, 6, 3]), 3, retbins=True)"
   ]
  },
  {
   "cell_type": "markdown",
   "id": "7ab0929e",
   "metadata": {},
   "source": [
    "#### Discovers the same bins, but assign them specific labels. Notice that the returned Categorical’s categories are labels and is ordered."
   ]
  },
  {
   "cell_type": "code",
   "execution_count": 4,
   "id": "c7ee2b32",
   "metadata": {},
   "outputs": [
    {
     "data": {
      "text/plain": [
       "['bad', 'good', 'medium', 'medium', 'good', 'bad']\n",
       "Categories (3, object): ['bad' < 'medium' < 'good']"
      ]
     },
     "execution_count": 4,
     "metadata": {},
     "output_type": "execute_result"
    }
   ],
   "source": [
    "pd.cut(np.array([1, 7, 5, 4, 6, 3]),3, labels=[\"bad\", \"medium\", \"good\"])"
   ]
  },
  {
   "cell_type": "markdown",
   "id": "c83c3069",
   "metadata": {},
   "source": [
    "##### ordered=False will result in unordered categories when labels are passed. This parameter can be used to allow non-unique labels:"
   ]
  },
  {
   "cell_type": "code",
   "execution_count": 5,
   "id": "bdd12801",
   "metadata": {},
   "outputs": [
    {
     "data": {
      "text/plain": [
       "['B', 'B', 'A', 'A', 'B', 'B']\n",
       "Categories (2, object): ['A', 'B']"
      ]
     },
     "execution_count": 5,
     "metadata": {},
     "output_type": "execute_result"
    }
   ],
   "source": [
    "pd.cut(np.array([1, 7, 5, 4, 6, 3]), 3,labels=[\"B\", \"A\", \"B\"], ordered=False)"
   ]
  },
  {
   "cell_type": "markdown",
   "id": "21ca8b29",
   "metadata": {},
   "source": [
    "#### labels=False implies you just want the bins back."
   ]
  },
  {
   "cell_type": "code",
   "execution_count": 6,
   "id": "700c4364",
   "metadata": {},
   "outputs": [
    {
     "data": {
      "text/plain": [
       "array([0, 1, 1, 3])"
      ]
     },
     "execution_count": 6,
     "metadata": {},
     "output_type": "execute_result"
    }
   ],
   "source": [
    "pd.cut([0, 1, 1, 2], bins=4, labels=False)"
   ]
  },
  {
   "cell_type": "markdown",
   "id": "4f57f61d",
   "metadata": {},
   "source": [
    "#### Passing a Series as an input returns a Series with categorical dtype:"
   ]
  },
  {
   "cell_type": "code",
   "execution_count": 7,
   "id": "9d27c0cf",
   "metadata": {},
   "outputs": [
    {
     "data": {
      "text/plain": [
       "a    (1.992, 4.667]\n",
       "b    (1.992, 4.667]\n",
       "c    (4.667, 7.333]\n",
       "d     (7.333, 10.0]\n",
       "e     (7.333, 10.0]\n",
       "dtype: category\n",
       "Categories (3, interval[float64]): [(1.992, 4.667] < (4.667, 7.333] < (7.333, 10.0]]"
      ]
     },
     "execution_count": 7,
     "metadata": {},
     "output_type": "execute_result"
    }
   ],
   "source": [
    "s = pd.Series(np.array([2, 4, 6, 8, 10]),\n",
    "              index=['a', 'b', 'c', 'd', 'e'])\n",
    "pd.cut(s, 3)"
   ]
  },
  {
   "cell_type": "markdown",
   "id": "4ac86b11",
   "metadata": {},
   "source": [
    "##### Passing a Series as an input returns a Series with mapping value. It is used to map numerically to intervals based on bins."
   ]
  },
  {
   "cell_type": "code",
   "execution_count": 8,
   "id": "f8b447a6",
   "metadata": {},
   "outputs": [
    {
     "data": {
      "text/plain": [
       "(a    1.0\n",
       " b    2.0\n",
       " c    3.0\n",
       " d    4.0\n",
       " e    NaN\n",
       " dtype: float64,\n",
       " array([ 0,  2,  4,  6,  8, 10]))"
      ]
     },
     "execution_count": 8,
     "metadata": {},
     "output_type": "execute_result"
    }
   ],
   "source": [
    "s = pd.Series(np.array([2, 4, 6, 8, 10]),index=['a', 'b', 'c', 'd', 'e'])\n",
    "pd.cut(s, [0, 2, 4, 6, 8, 10], labels=False, retbins=True, right=False)"
   ]
  },
  {
   "cell_type": "markdown",
   "id": "02419b57",
   "metadata": {},
   "source": [
    "##### Use drop optional when bins is not unique"
   ]
  },
  {
   "cell_type": "code",
   "execution_count": 9,
   "id": "5a4fdbc4",
   "metadata": {},
   "outputs": [
    {
     "data": {
      "text/plain": [
       "(a    1.0\n",
       " b    2.0\n",
       " c    3.0\n",
       " d    3.0\n",
       " e    NaN\n",
       " dtype: float64,\n",
       " array([ 0,  2,  4,  6, 10]))"
      ]
     },
     "execution_count": 9,
     "metadata": {},
     "output_type": "execute_result"
    }
   ],
   "source": [
    "pd.cut(s, [0, 2, 4, 6, 10, 10], labels=False, retbins=True,right=False, duplicates='drop')"
   ]
  },
  {
   "cell_type": "markdown",
   "id": "53d70dc9",
   "metadata": {},
   "source": [
    "#### Passing an IntervalIndex for bins results in those categories exactly. Notice that values not covered by the IntervalIndex are set to NaN. 0 is to the left of the first bin (which is closed on the right), and 1.5 falls between two bins."
   ]
  },
  {
   "cell_type": "code",
   "execution_count": 10,
   "id": "415d95cc",
   "metadata": {},
   "outputs": [
    {
     "data": {
      "text/plain": [
       "[NaN, (0.0, 1.0], NaN, (2.0, 3.0], (4.0, 5.0]]\n",
       "Categories (3, interval[int64]): [(0, 1] < (2, 3] < (4, 5]]"
      ]
     },
     "execution_count": 10,
     "metadata": {},
     "output_type": "execute_result"
    }
   ],
   "source": [
    "bins = pd.IntervalIndex.from_tuples([(0, 1), (2, 3), (4, 5)])\n",
    "pd.cut([0, 0.5, 1.5, 2.5, 4.5], bins)"
   ]
  }
 ],
 "metadata": {
  "kernelspec": {
   "display_name": "Python 3",
   "language": "python",
   "name": "python3"
  },
  "language_info": {
   "codemirror_mode": {
    "name": "ipython",
    "version": 3
   },
   "file_extension": ".py",
   "mimetype": "text/x-python",
   "name": "python",
   "nbconvert_exporter": "python",
   "pygments_lexer": "ipython3",
   "version": "3.8.8"
  }
 },
 "nbformat": 4,
 "nbformat_minor": 5
}
